{
 "cells": [
  {
   "cell_type": "markdown",
   "metadata": {},
   "source": [
    "# Documentation\n",
    "\n",
    "In this notebook I inted to document the process and note some ideas. Primarily, as I work my way through the chapters of \"Advances in Financial Machine Learning\", the concepts behind it will be summarized and elucidated with sample code. "
   ]
  },
  {
   "cell_type": "markdown",
   "metadata": {},
   "source": [
    "## Introduction\n",
    "\n",
    "Some notion of what I am trying to achieve and what drove me to this project in the first place."
   ]
  },
  {
   "cell_type": "markdown",
   "metadata": {},
   "source": [
    "## Data\n",
    "\n",
    "Obviously we need proper data. My first idea was to just use the data from freqtrade. It offers a very nice interface to download a whole bunch of data in one go, in either raw trade data or in OCHL format. \n",
    "\n",
    "The book raises a good point though: If you use the same data everybody is using you will have less of an edge. You require novelty in both data and approach to differentiate and outsmart the other algo traders. The book mentions to use FIX data, kind of the most raw type of data. I couldn't quickly find such data, but I believe it to be simply raw trade data that consists of singular trades, both sell and buy rather than some kind of aggregate or derivative of this data like OCHL (Open Close High Low) or some such. This is why I will focus on this format. It is the most raw format, and it's always good to get to the most raw level and down sample it any which way you like. Upsampling is of course, much more difficult."
   ]
  },
  {
   "cell_type": "markdown",
   "metadata": {},
   "source": [
    "## Processing / Feature Extraction\n",
    "\n",
    "An important point is made that the downsampling used commonly (time bars, tick bars and others) are too arbitrary and thus quite limiting. The book then goes into some better methods of downsampling data, with information driven bars. The idea being that certain microstructural changes drive the information process rather than arbitrary delineations. \n",
    "\n",
    "An important concept here is _tick imbalance_ which can be informally defined as how much a tick deviates from expection in terms of price. The _tick rule_, being an essential part of this marks a tick as imbalanced by comparing it's price versus a previous price and noting the significance in change."
   ]
  },
  {
   "cell_type": "code",
   "execution_count": null,
   "metadata": {},
   "outputs": [],
   "source": [
    "def tick_rule(new_price, )"
   ]
  },
  {
   "cell_type": "code",
   "execution_count": 2,
   "metadata": {},
   "outputs": [],
   "source": [
    "## Labeling"
   ]
  },
  {
   "cell_type": "code",
   "execution_count": null,
   "metadata": {},
   "outputs": [],
   "source": [
    "## "
   ]
  }
 ],
 "metadata": {
  "kernelspec": {
   "display_name": "big-stock",
   "language": "python",
   "name": "big-stock"
  },
  "language_info": {
   "codemirror_mode": {
    "name": "ipython",
    "version": 3
   },
   "file_extension": ".py",
   "mimetype": "text/x-python",
   "name": "python",
   "nbconvert_exporter": "python",
   "pygments_lexer": "ipython3",
   "version": "3.9.0"
  }
 },
 "nbformat": 4,
 "nbformat_minor": 4
}
